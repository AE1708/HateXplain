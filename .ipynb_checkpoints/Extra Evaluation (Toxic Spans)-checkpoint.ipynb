{
 "cells": [
  {
   "cell_type": "code",
   "execution_count": 1,
   "id": "bf6491ac",
   "metadata": {},
   "outputs": [],
   "source": [
    "import pickle\n",
    "import shap\n",
    "import random\n",
    "import pandas as pd\n",
    "import numpy as np\n",
    "import matplotlib.pyplot as plt\n",
    "from experiments import HateXplainExperiments\n",
    "from nltk.tokenize import word_tokenize\n",
    "import math\n",
    "from collections import Counter\n",
    "\n",
    "\n",
    "def counter_cosine_similarity(c1, c2):\n",
    "    terms = set(c1).union(c2)\n",
    "    dotprod = sum(c1.get(k, 0) * c2.get(k, 0) for k in terms)\n",
    "    magA = math.sqrt(sum(c1.get(k, 0)**2 for k in terms))\n",
    "    magB = math.sqrt(sum(c2.get(k, 0)**2 for k in terms))\n",
    "    return dotprod / (magA * magB)\n",
    "\n",
    "def normalize(seq):\n",
    "    extremum = max(abs(i) for i in seq)\n",
    "    return [i / extremum for i in seq]"
   ]
  },
  {
   "cell_type": "code",
   "execution_count": 9,
   "id": "2f8793b2",
   "metadata": {},
   "outputs": [],
   "source": [
    "comments = pd.read_csv(\"toxic_spans/data/comments.csv\")\n",
    "annotations = pd.read_csv(\"toxic_spans/data/annotations.csv\")\n",
    "spans = pd.read_csv(\"toxic_spans/data/spans.csv\")\n",
    "#vectorizer = pickle.load(open('models/vectorizer.pkl', 'rb'))"
   ]
  },
  {
   "cell_type": "code",
   "execution_count": 3,
   "id": "cd34e51a",
   "metadata": {},
   "outputs": [],
   "source": [
    "df = pd.merge(comments, annotations, on='comment_id')\n",
    "df = pd.merge(df, spans, on='annotation')"
   ]
  },
  {
   "cell_type": "code",
   "execution_count": 4,
   "id": "4f371598",
   "metadata": {},
   "outputs": [],
   "source": [
    "df_test = pd.DataFrame({'comment_text': df['comment_text']})"
   ]
  },
  {
   "cell_type": "code",
   "execution_count": 5,
   "id": "ab7693c5",
   "metadata": {},
   "outputs": [
    {
     "data": {
      "text/plain": [
       "46784"
      ]
     },
     "execution_count": 5,
     "metadata": {},
     "output_type": "execute_result"
    }
   ],
   "source": [
    "len(df_test)"
   ]
  },
  {
   "cell_type": "markdown",
   "id": "357454f3",
   "metadata": {},
   "source": [
    "### Experiment B based ensemble model"
   ]
  },
  {
   "cell_type": "code",
   "execution_count": 6,
   "id": "12c8cc82",
   "metadata": {},
   "outputs": [
    {
     "name": "stdout",
     "output_type": "stream",
     "text": [
      "{'nb__alpha': 0.001, 'nb__norm': False, 'sdg__alpha': 0.0001, 'sdg__average': True, 'sdg__class_weight': 'balanced', 'sdg__learning_rate': 'optimal', 'sdg__max_iter': 1000}\n",
      "{'Description': ['Exponential function applied to tokens in the TF-IDF vectorised training matrix (1) tagged as not indicative in offensive and hate-speech related human rationales and (2) and not unique to sentences labelled as normal [b]'], 'CV score': [0.7456256558590589], 'Accuracy': [0.7339950372208437], 'Balanced accuracy': [0.7175991992197526], 'F1 score': [0.732424495099172], 'Precision': [0.7317787934963752], 'Recall': [0.7339950372208437]}\n"
     ]
    }
   ],
   "source": [
    "description = \"Exponential function applied to tokens in the TF-IDF vectorised training matrix (1) tagged as not indicative in offensive and hate-speech related human rationales and (2) and not unique to sentences labelled as normal [b]\"\n",
    "hatexplain = HateXplainExperiments(description)\n",
    "dataset = hatexplain.prepare_dataset()\n",
    "hatexplain.prepare_properties(dataset)\n",
    "X_train_vect_experiment_B = hatexplain.preprocess_training_data_option_two()\n",
    "best_algorithm_experiment_B = hatexplain.get_performance_metrics(X_train_vect_experiment_B)"
   ]
  },
  {
   "cell_type": "code",
   "execution_count": 10,
   "id": "e2b3dfbc",
   "metadata": {},
   "outputs": [],
   "source": [
    "vectorized_sentences_experiment_B = vectorizer.transform(df_test['comment_text'])\n",
    "df_test['predictions_experimentB'] = best_algorithm_experiment_B.predict(vectorized_sentences_experiment_B)\n",
    "df_test[['normal_experimentB', 'toxic_experimentB']] = best_algorithm_experiment_B.predict_proba(vectorized_sentences_experiment_B)"
   ]
  },
  {
   "cell_type": "markdown",
   "id": "c3536c6c",
   "metadata": {},
   "source": [
    "### No injection based ensemble model"
   ]
  },
  {
   "cell_type": "code",
   "execution_count": 14,
   "id": "e77a28c1",
   "metadata": {},
   "outputs": [
    {
     "name": "stdout",
     "output_type": "stream",
     "text": [
      "{'nb__alpha': 2, 'nb__norm': False, 'sdg__alpha': 0.01, 'sdg__average': True, 'sdg__class_weight': 'balanced', 'sdg__learning_rate': 'optimal', 'sdg__max_iter': 1000}\n",
      "{'Description': ['No injection'], 'CV score': [0.738924729899628], 'Accuracy': [0.7441687344913152], 'Balanced accuracy': [0.7284610646270725], 'F1 score': [0.7427425075862137], 'Precision': [0.7421637386940426], 'Recall': [0.7441687344913152]}\n"
     ]
    }
   ],
   "source": [
    "description = \"No injection\"\n",
    "hatexplain = HateXplainExperiments(description)\n",
    "dataset = hatexplain.prepare_dataset()\n",
    "X_train_vect_no_injection = hatexplain.prepare_properties(dataset)\n",
    "best_algorithm_no_injection = hatexplain.get_performance_metrics()"
   ]
  },
  {
   "cell_type": "code",
   "execution_count": 15,
   "id": "df84adbd",
   "metadata": {},
   "outputs": [],
   "source": [
    "vectorized_sentences_no_injection = vectorizer.transform(df_test['comment_text'])\n",
    "df_test['predictions_no_injection'] = best_algorithm_no_injection.predict(vectorized_sentences_no_injection)\n",
    "df_test[['normal_no_injection', 'toxic_no_injection']] = best_algorithm_no_injection.predict_proba(vectorized_sentences_no_injection)"
   ]
  },
  {
   "cell_type": "code",
   "execution_count": 16,
   "id": "e20dc3f2",
   "metadata": {},
   "outputs": [
    {
     "data": {
      "text/plain": [
       "688"
      ]
     },
     "execution_count": 16,
     "metadata": {},
     "output_type": "execute_result"
    }
   ],
   "source": [
    "df_test = df_test[(df_test['predictions_experimentB'] != 'normal') & (df_test['predictions_no_injection'] != 'normal')]\n",
    "df_test = df_test[(df_test['toxic_no_injection'] >= 0.9) & (df_test['toxic_experimentB'] >= 0.9)]\n",
    "len(df_test)"
   ]
  },
  {
   "cell_type": "code",
   "execution_count": 18,
   "id": "0ad1d7cb",
   "metadata": {},
   "outputs": [],
   "source": [
    "df_sampled = df_test.sample(n=688)\n",
    "random_sample_sentences = list(df_sampled['comment_text'])"
   ]
  },
  {
   "cell_type": "code",
   "execution_count": 19,
   "id": "c4d3b526",
   "metadata": {},
   "outputs": [],
   "source": [
    "def evaluate_cosine_similarity(features, shap_values, threshold):\n",
    "    \n",
    "    # hatexplain_results = []\n",
    "    # ground_truth_results = []\n",
    "    \n",
    "    cosine_similarity_results = {}\n",
    "    \n",
    "    for i, sentence in enumerate(random_sample_sentences):\n",
    "\n",
    "        id_sorted = np.argsort(shap_values[1][i])\n",
    "        tokens = word_tokenize(sentence)\n",
    "        idxs = [list(features).index(token.lower()) for token in tokens if token.lower() in features]\n",
    "        sentence_tokens_sorted = [x for x in id_sorted if x in idxs]     \n",
    "        contribution_tokens = features[sentence_tokens_sorted] \n",
    "            \n",
    "        hatexplain_tokens = []\n",
    "        for n, token in enumerate(contribution_tokens):\n",
    "            shapv = shap_values[1][i][np.where(features == token)[0][0]]\n",
    "            if shapv >= threshold:\n",
    "                hatexplain_tokens.append(token)\n",
    "\n",
    "        start = df[df['comment_text']==sentence]['start'].iloc[0]\n",
    "        end = df[df['comment_text']==sentence]['end'].iloc[0]\n",
    "\n",
    "        start = max(0, start)\n",
    "        end = min(len(sentence), end)\n",
    "        ground_truth_rationale = sentence[start:end]\n",
    "        tokens = word_tokenize(ground_truth_rationale)\n",
    "\n",
    "        hatexplain_tokens_counter = Counter(hatexplain_tokens)\n",
    "        ground_truth_results_counter = Counter([token.lower() for token in tokens])\n",
    "        \n",
    "        try:\n",
    "\n",
    "            cosine_similarity = counter_cosine_similarity(hatexplain_tokens_counter, ground_truth_results_counter)\n",
    "            cosine_similarity_results[str(i)] = cosine_similarity\n",
    "\n",
    "        except:\n",
    "        \n",
    "            cosine_similarity_results[str(i)] = 0.0\n",
    "        \n",
    "        # ground_truth_results.append(tokens)\n",
    "        # hatexplain_results.append(hatexplain_tokens)\n",
    "\n",
    "        \n",
    "    return cosine_similarity_results"
   ]
  },
  {
   "cell_type": "code",
   "execution_count": 22,
   "id": "1b713e0c",
   "metadata": {},
   "outputs": [],
   "source": [
    "explainer = shap.KernelExplainer(best_algorithm_experiment_B.predict_proba, shap.sample(X_train_vect_experiment_B, 10), model_output='probability')\n",
    "vectorized_sentences = vectorizer.transform(df_sampled['comment_text'])\n",
    "shap_values_experiment_B = explainer.shap_values(vectorized_sentences)\n",
    "features_experiment_B = vectorizer.get_feature_names_out()"
   ]
  },
  {
   "cell_type": "code",
   "execution_count": 23,
   "id": "3efec31b",
   "metadata": {},
   "outputs": [],
   "source": [
    "results_experiment_B = evaluate_cosine_similarity(features_experiment_B, shap_values_experiment_B, 0.02)  "
   ]
  },
  {
   "cell_type": "code",
   "execution_count": 39,
   "id": "dbe64818",
   "metadata": {},
   "outputs": [
    {
     "data": {
      "text/plain": [
       "0.4945720040082417"
      ]
     },
     "execution_count": 39,
     "metadata": {},
     "output_type": "execute_result"
    }
   ],
   "source": [
    "np.mean(list(results_experiment_B.values()))"
   ]
  },
  {
   "cell_type": "code",
   "execution_count": 34,
   "id": "d9adf61a",
   "metadata": {},
   "outputs": [],
   "source": [
    "explainer = shap.KernelExplainer(best_algorithm_no_injection.predict_proba, shap.sample(hatexplain.X_train_vect, 10), model_output='probability')\n",
    "vectorized_sentences = vectorizer.transform(df_sampled['comment_text'])\n",
    "shap_values_no_injection = explainer.shap_values(vectorized_sentences)\n",
    "features_no_injection = vectorizer.get_feature_names_out()"
   ]
  },
  {
   "cell_type": "code",
   "execution_count": 36,
   "id": "d7d2186c",
   "metadata": {},
   "outputs": [],
   "source": [
    "results_experiment_no_injection = evaluate_cosine_similarity(features_no_injection, shap_values_no_injection, 0.02) "
   ]
  },
  {
   "cell_type": "code",
   "execution_count": 37,
   "id": "f1e0062f",
   "metadata": {},
   "outputs": [
    {
     "data": {
      "text/plain": [
       "0.4673399182499127"
      ]
     },
     "execution_count": 37,
     "metadata": {},
     "output_type": "execute_result"
    }
   ],
   "source": [
    "np.mean(list(results_experiment_no_injection.values()))"
   ]
  }
 ],
 "metadata": {
  "kernelspec": {
   "display_name": "Python 3 (ipykernel)",
   "language": "python",
   "name": "python3"
  },
  "language_info": {
   "codemirror_mode": {
    "name": "ipython",
    "version": 3
   },
   "file_extension": ".py",
   "mimetype": "text/x-python",
   "name": "python",
   "nbconvert_exporter": "python",
   "pygments_lexer": "ipython3",
   "version": "3.8.8"
  }
 },
 "nbformat": 4,
 "nbformat_minor": 5
}
