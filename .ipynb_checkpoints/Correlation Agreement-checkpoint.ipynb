{
 "cells": [
  {
   "cell_type": "code",
   "execution_count": 1,
   "id": "28ccec3f",
   "metadata": {},
   "outputs": [],
   "source": [
    "import experiments\n",
    "import pickle\n",
    "import shap\n",
    "\n",
    "import numpy as np\n",
    "from scipy.stats import pearsonr, rankdata\n",
    "import itertools\n",
    "from scipy.special import comb\n",
    "import pandas as pd"
   ]
  },
  {
   "cell_type": "code",
   "execution_count": 2,
   "id": "43635e42",
   "metadata": {},
   "outputs": [],
   "source": [
    "description = \"Exponential function applied to tokens in the TF-IDF vectorised training matrix (1) tagged as not indicative in offensive and hate-speech related human rationales and (2) and not unique to sentences labelled as normal [b]\"\n",
    "hatexplain = experiments.HateXplainExperiments(description)\n",
    "dataset = hatexplain.prepare_dataset()\n",
    "hatexplain.prepare_properties(dataset)\n",
    "X_train_vect = hatexplain.preprocess_training_data_option_two()\n",
    "#hatexplain.get_performance_metrics(X_train_vect)"
   ]
  },
  {
   "cell_type": "code",
   "execution_count": 4,
   "id": "5653cc9a",
   "metadata": {},
   "outputs": [],
   "source": [
    "with open('best_algorithm.sav', 'rb') as file:\n",
    "    best_algorithm = pickle.load(file)"
   ]
  },
  {
   "cell_type": "code",
   "execution_count": 5,
   "id": "279659a2",
   "metadata": {},
   "outputs": [
    {
     "data": {
      "application/vnd.jupyter.widget-view+json": {
       "model_id": "12082d51971949fa8203c070c5f84109",
       "version_major": 2,
       "version_minor": 0
      },
      "text/plain": [
       "  0%|          | 0/4030 [00:00<?, ?it/s]"
      ]
     },
     "metadata": {},
     "output_type": "display_data"
    }
   ],
   "source": [
    "explainer = shap.KernelExplainer(best_algorithm.predict_proba, shap.sample(X_train_vect, 10), model_output='probability')\n",
    "shap_values = explainer.shap_values(hatexplain.X_test_vect)"
   ]
  },
  {
   "cell_type": "code",
   "execution_count": null,
   "id": "175c73dc",
   "metadata": {},
   "outputs": [],
   "source": [
    "shap_values"
   ]
  },
  {
   "cell_type": "code",
   "execution_count": 6,
   "id": "47b23791",
   "metadata": {},
   "outputs": [],
   "source": [
    "base = []\n",
    "features = hatexplain.vectorizer.vocabulary_.keys()\n",
    "for sentence, global_rationale in zip(hatexplain.test_sentences, hatexplain.test_rationales):\n",
    "    individual_base = np.zeros(len(features))\n",
    "    if any(i == 1 for i in global_rationale):\n",
    "        for token, rationale in zip(sentence, global_rationale):\n",
    "            if rationale == 1 and token in hatexplain.vectorizer.vocabulary_:\n",
    "                idx = hatexplain.vectorizer.vocabulary_.get(token)\n",
    "                individual_base[idx] = 1\n",
    "    base.append(individual_base) "
   ]
  },
  {
   "cell_type": "code",
   "execution_count": 7,
   "id": "c28206d7",
   "metadata": {},
   "outputs": [],
   "source": [
    "# Example data, where attrA and attrB are lists of lists\n",
    "attrA = shap_values[0]\n",
    "attrB = base\n",
    "\n",
    "n_datapoints = len(attrA)\n",
    "n_feat = len(attrA[0])\n",
    "\n",
    "# Initialize empty arrays to store ranks\n",
    "all_feat_ranksA = np.zeros((n_datapoints, n_feat))\n",
    "all_feat_ranksB = np.zeros((n_datapoints, n_feat))\n",
    "\n",
    "# Calculate ranks for each data entry\n",
    "for i in range(n_datapoints):\n",
    "    all_feat_ranksA[i, :] = rankdata(-np.abs(attrA[i]), method='dense')\n",
    "    all_feat_ranksB[i, :] = rankdata(-np.abs(attrB[i]), method='dense')"
   ]
  },
  {
   "cell_type": "code",
   "execution_count": null,
   "id": "63a5feb5",
   "metadata": {},
   "outputs": [],
   "source": [
    "# Initialize an array to store the count of pairs with the same relative ranking\n",
    "feat_pairs_w_same_rel_rankings = np.zeros(n_datapoints)\n",
    "\n",
    "# Count pairs with the same relative ranking for each data entry\n",
    "for i in range(n_datapoints):\n",
    "    for feat1, feat2 in itertools.combinations_with_replacement(range(n_feat), 2):\n",
    "        if feat1 != feat2:\n",
    "            rel_rankingA = all_feat_ranksA[i, feat1] < all_feat_ranksA[i, feat2]\n",
    "            rel_rankingB = all_feat_ranksB[i, feat1] < all_feat_ranksB[i, feat2]\n",
    "            feat_pairs_w_same_rel_rankings[i] += rel_rankingA == rel_rankingB\n",
    "\n",
    "# Calculate pairwise agreement for each data entry\n",
    "pairwise_distr = feat_pairs_w_same_rel_rankings / comb(n_feat, 2)"
   ]
  },
  {
   "cell_type": "code",
   "execution_count": null,
   "id": "45428517",
   "metadata": {},
   "outputs": [],
   "source": []
  }
 ],
 "metadata": {
  "kernelspec": {
   "display_name": "Python 3 (ipykernel)",
   "language": "python",
   "name": "python3"
  },
  "language_info": {
   "codemirror_mode": {
    "name": "ipython",
    "version": 3
   },
   "file_extension": ".py",
   "mimetype": "text/x-python",
   "name": "python",
   "nbconvert_exporter": "python",
   "pygments_lexer": "ipython3",
   "version": "3.8.8"
  }
 },
 "nbformat": 4,
 "nbformat_minor": 5
}
