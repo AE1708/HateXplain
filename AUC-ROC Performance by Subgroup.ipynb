{
 "cells": [
  {
   "cell_type": "code",
   "execution_count": 1,
   "id": "785d60ba",
   "metadata": {},
   "outputs": [],
   "source": [
    "import json\n",
    "import pickle\n",
    "import pandas as pd\n",
    "import numpy as np\n",
    "import matplotlib.pyplot as plt\n",
    "from sklearn.model_selection import train_test_split\n",
    "from sklearn.feature_extraction.text import TfidfVectorizer\n",
    "from sklearn.metrics import accuracy_score, recall_score, precision_score, f1_score, balanced_accuracy_score, roc_auc_score"
   ]
  },
  {
   "cell_type": "code",
   "execution_count": 2,
   "id": "e858d45c",
   "metadata": {},
   "outputs": [],
   "source": [
    "f = open('dataset.json')\n",
    "data = json.load(f)\n",
    "file = 'best_algorithm.sav'\n",
    "best_algorithm = pickle.load(open(file, \"rb\"))"
   ]
  },
  {
   "cell_type": "code",
   "execution_count": 3,
   "id": "1c21992a",
   "metadata": {},
   "outputs": [],
   "source": [
    "cleaned_dataset = []\n",
    "\n",
    "for k,v in data.items():\n",
    "    \n",
    "    individual_data = {}\n",
    "    individual_data['post_tokens'] = v['post_tokens']\n",
    "    individual_data['post_tokens_joined'] = ' '.join(v['post_tokens'])\n",
    "    individual_data['target'] = v['annotators'][0]['target']\n",
    "    individual_data['annotator_a_label'] = v['annotators'][0]['label']\n",
    "    individual_data['annotator_b_label'] = v['annotators'][1]['label']\n",
    "    individual_data['annotator_c_label'] = v['annotators'][2]['label']\n",
    "    \n",
    "    labels = [v['annotators'][0]['label'], v['annotators'][1]['label'], v['annotators'][2]['label']]\n",
    "    final_label = max(labels, key=labels.count)\n",
    "    individual_data['final_label'] = final_label\n",
    "    \n",
    "    if set(labels) != 3:\n",
    "    \n",
    "        if len(v['rationales']) == 0: \n",
    "            individual_data['annotator_a_rationale'] = []\n",
    "            individual_data['annotator_b_rationale'] = []\n",
    "            individual_data['annotator_c_rationale'] = []\n",
    "            individual_data['final_rationale'] = []\n",
    "            \n",
    "        else:  \n",
    "            individual_data['annotator_a_rationale'] = v['rationales'][0]\n",
    "            individual_data['annotator_b_rationale'] = v['rationales'][1]\n",
    "        \n",
    "            if final_label != v['annotators'][1]['label']:\n",
    "                individual_data['final_rationale'] = v['rationales'][0]\n",
    "            else:\n",
    "                individual_data['final_rationale'] = v['rationales'][1]\n",
    "                       \n",
    "        cleaned_dataset.append(individual_data)"
   ]
  },
  {
   "cell_type": "code",
   "execution_count": 4,
   "id": "1684e7fe",
   "metadata": {},
   "outputs": [
    {
     "data": {
      "text/html": [
       "<div>\n",
       "<style scoped>\n",
       "    .dataframe tbody tr th:only-of-type {\n",
       "        vertical-align: middle;\n",
       "    }\n",
       "\n",
       "    .dataframe tbody tr th {\n",
       "        vertical-align: top;\n",
       "    }\n",
       "\n",
       "    .dataframe thead th {\n",
       "        text-align: right;\n",
       "    }\n",
       "</style>\n",
       "<table border=\"1\" class=\"dataframe\">\n",
       "  <thead>\n",
       "    <tr style=\"text-align: right;\">\n",
       "      <th></th>\n",
       "      <th>post_tokens</th>\n",
       "      <th>post_tokens_joined</th>\n",
       "      <th>target</th>\n",
       "      <th>annotator_a_label</th>\n",
       "      <th>annotator_b_label</th>\n",
       "      <th>annotator_c_label</th>\n",
       "      <th>final_label</th>\n",
       "      <th>annotator_a_rationale</th>\n",
       "      <th>annotator_b_rationale</th>\n",
       "      <th>annotator_c_rationale</th>\n",
       "      <th>final_rationale</th>\n",
       "    </tr>\n",
       "  </thead>\n",
       "  <tbody>\n",
       "    <tr>\n",
       "      <th>0</th>\n",
       "      <td>[i, dont, think, im, getting, my, baby, them, ...</td>\n",
       "      <td>i dont think im getting my baby them white 9 h...</td>\n",
       "      <td>[None]</td>\n",
       "      <td>normal</td>\n",
       "      <td>normal</td>\n",
       "      <td>normal</td>\n",
       "      <td>normal</td>\n",
       "      <td>[]</td>\n",
       "      <td>[]</td>\n",
       "      <td>[]</td>\n",
       "      <td>[]</td>\n",
       "    </tr>\n",
       "    <tr>\n",
       "      <th>1</th>\n",
       "      <td>[we, cannot, continue, calling, ourselves, fem...</td>\n",
       "      <td>we cannot continue calling ourselves feminists...</td>\n",
       "      <td>[None]</td>\n",
       "      <td>normal</td>\n",
       "      <td>normal</td>\n",
       "      <td>normal</td>\n",
       "      <td>normal</td>\n",
       "      <td>[]</td>\n",
       "      <td>[]</td>\n",
       "      <td>[]</td>\n",
       "      <td>[]</td>\n",
       "    </tr>\n",
       "    <tr>\n",
       "      <th>2</th>\n",
       "      <td>[nawt, yall, niggers, ignoring, me]</td>\n",
       "      <td>nawt yall niggers ignoring me</td>\n",
       "      <td>[African]</td>\n",
       "      <td>normal</td>\n",
       "      <td>normal</td>\n",
       "      <td>hatespeech</td>\n",
       "      <td>normal</td>\n",
       "      <td>[]</td>\n",
       "      <td>[]</td>\n",
       "      <td>[]</td>\n",
       "      <td>[]</td>\n",
       "    </tr>\n",
       "    <tr>\n",
       "      <th>3</th>\n",
       "      <td>[&lt;user&gt;, i, am, bit, confused, coz, chinese, p...</td>\n",
       "      <td>&lt;user&gt; i am bit confused coz chinese ppl can n...</td>\n",
       "      <td>[Asian]</td>\n",
       "      <td>hatespeech</td>\n",
       "      <td>offensive</td>\n",
       "      <td>hatespeech</td>\n",
       "      <td>hatespeech</td>\n",
       "      <td>[0, 0, 0, 0, 0, 0, 0, 0, 0, 0, 0, 0, 0, 0, 0, ...</td>\n",
       "      <td>[0, 0, 0, 0, 0, 0, 0, 0, 0, 0, 0, 0, 0, 0, 0, ...</td>\n",
       "      <td>NaN</td>\n",
       "      <td>[0, 0, 0, 0, 0, 0, 0, 0, 0, 0, 0, 0, 0, 0, 0, ...</td>\n",
       "    </tr>\n",
       "    <tr>\n",
       "      <th>4</th>\n",
       "      <td>[this, bitch, in, whataburger, eating, a, burg...</td>\n",
       "      <td>this bitch in whataburger eating a burger with...</td>\n",
       "      <td>[Caucasian, Women]</td>\n",
       "      <td>hatespeech</td>\n",
       "      <td>hatespeech</td>\n",
       "      <td>offensive</td>\n",
       "      <td>hatespeech</td>\n",
       "      <td>[0, 1, 0, 0, 0, 0, 0, 0, 0, 0, 0, 0, 0, 0, 0, ...</td>\n",
       "      <td>[0, 0, 0, 0, 0, 0, 0, 0, 0, 0, 0, 0, 0, 0, 0, ...</td>\n",
       "      <td>NaN</td>\n",
       "      <td>[0, 0, 0, 0, 0, 0, 0, 0, 0, 0, 0, 0, 0, 0, 0, ...</td>\n",
       "    </tr>\n",
       "  </tbody>\n",
       "</table>\n",
       "</div>"
      ],
      "text/plain": [
       "                                         post_tokens   \n",
       "0  [i, dont, think, im, getting, my, baby, them, ...  \\\n",
       "1  [we, cannot, continue, calling, ourselves, fem...   \n",
       "2                [nawt, yall, niggers, ignoring, me]   \n",
       "3  [<user>, i, am, bit, confused, coz, chinese, p...   \n",
       "4  [this, bitch, in, whataburger, eating, a, burg...   \n",
       "\n",
       "                                  post_tokens_joined              target   \n",
       "0  i dont think im getting my baby them white 9 h...              [None]  \\\n",
       "1  we cannot continue calling ourselves feminists...              [None]   \n",
       "2                      nawt yall niggers ignoring me           [African]   \n",
       "3  <user> i am bit confused coz chinese ppl can n...             [Asian]   \n",
       "4  this bitch in whataburger eating a burger with...  [Caucasian, Women]   \n",
       "\n",
       "  annotator_a_label annotator_b_label annotator_c_label final_label   \n",
       "0            normal            normal            normal      normal  \\\n",
       "1            normal            normal            normal      normal   \n",
       "2            normal            normal        hatespeech      normal   \n",
       "3        hatespeech         offensive        hatespeech  hatespeech   \n",
       "4        hatespeech        hatespeech         offensive  hatespeech   \n",
       "\n",
       "                               annotator_a_rationale   \n",
       "0                                                 []  \\\n",
       "1                                                 []   \n",
       "2                                                 []   \n",
       "3  [0, 0, 0, 0, 0, 0, 0, 0, 0, 0, 0, 0, 0, 0, 0, ...   \n",
       "4  [0, 1, 0, 0, 0, 0, 0, 0, 0, 0, 0, 0, 0, 0, 0, ...   \n",
       "\n",
       "                               annotator_b_rationale annotator_c_rationale   \n",
       "0                                                 []                    []  \\\n",
       "1                                                 []                    []   \n",
       "2                                                 []                    []   \n",
       "3  [0, 0, 0, 0, 0, 0, 0, 0, 0, 0, 0, 0, 0, 0, 0, ...                   NaN   \n",
       "4  [0, 0, 0, 0, 0, 0, 0, 0, 0, 0, 0, 0, 0, 0, 0, ...                   NaN   \n",
       "\n",
       "                                     final_rationale  \n",
       "0                                                 []  \n",
       "1                                                 []  \n",
       "2                                                 []  \n",
       "3  [0, 0, 0, 0, 0, 0, 0, 0, 0, 0, 0, 0, 0, 0, 0, ...  \n",
       "4  [0, 0, 0, 0, 0, 0, 0, 0, 0, 0, 0, 0, 0, 0, 0, ...  "
      ]
     },
     "execution_count": 4,
     "metadata": {},
     "output_type": "execute_result"
    }
   ],
   "source": [
    "df = pd.DataFrame(cleaned_dataset)\n",
    "df.head()"
   ]
  },
  {
   "cell_type": "code",
   "execution_count": 5,
   "id": "f1615469",
   "metadata": {},
   "outputs": [],
   "source": [
    "train_indices, test_indices = train_test_split(df.index, test_size=0.2, random_state=42)\n",
    "df_train = df.loc[train_indices]\n",
    "df_test = df.loc[test_indices]"
   ]
  },
  {
   "cell_type": "code",
   "execution_count": 6,
   "id": "18079ac7",
   "metadata": {},
   "outputs": [],
   "source": [
    "X_train = df_train['post_tokens_joined']\n",
    "y_train = df_train['final_label']\n",
    "X_test = df_test['post_tokens_joined']\n",
    "y_test = df_test['final_label']\n",
    "\n",
    "vectorizer = TfidfVectorizer(norm=\"l2\") \n",
    "X_train_vect = vectorizer.fit_transform(X_train, y_train)"
   ]
  },
  {
   "cell_type": "code",
   "execution_count": 7,
   "id": "40a9fe56",
   "metadata": {},
   "outputs": [],
   "source": [
    "X_test_target = df_test['target']"
   ]
  },
  {
   "cell_type": "code",
   "execution_count": 8,
   "id": "b351622b",
   "metadata": {},
   "outputs": [],
   "source": [
    "nested_list = X_test_target.tolist()\n",
    "flattened_targets_list = [item for sublist in nested_list for item in sublist]\n",
    "unique_targets_list = list(set(flattened_targets_list))"
   ]
  },
  {
   "cell_type": "code",
   "execution_count": 9,
   "id": "261f829d",
   "metadata": {},
   "outputs": [
    {
     "data": {
      "text/plain": [
       "['Refugee',\n",
       " 'Hispanic',\n",
       " 'Nonreligious',\n",
       " 'Minority',\n",
       " 'Jewish',\n",
       " 'African',\n",
       " 'Asexual',\n",
       " 'Heterosexual',\n",
       " 'Indigenous',\n",
       " 'Christian',\n",
       " 'Caucasian',\n",
       " 'Other',\n",
       " 'Islam',\n",
       " 'Economic',\n",
       " 'Asian',\n",
       " 'Women',\n",
       " 'Men',\n",
       " 'Arab',\n",
       " 'Homosexual',\n",
       " 'Indian',\n",
       " 'Hindu',\n",
       " 'Disability',\n",
       " 'None']"
      ]
     },
     "execution_count": 9,
     "metadata": {},
     "output_type": "execute_result"
    }
   ],
   "source": [
    "unique_targets_list"
   ]
  },
  {
   "cell_type": "code",
   "execution_count": 10,
   "id": "cc5509fa",
   "metadata": {},
   "outputs": [],
   "source": [
    "data = {}\n",
    "for target in unique_targets_list:\n",
    "    data[target] = []"
   ]
  },
  {
   "cell_type": "code",
   "execution_count": 11,
   "id": "8f1f60cb",
   "metadata": {},
   "outputs": [],
   "source": [
    "for idx, row in df_test.iterrows():\n",
    "    for target in row['target']:\n",
    "        data[target].append(idx)"
   ]
  },
  {
   "cell_type": "code",
   "execution_count": 12,
   "id": "f7d1cbc1",
   "metadata": {},
   "outputs": [
    {
     "name": "stdout",
     "output_type": "stream",
     "text": [
      "0.674283903083849\n",
      "0.7251058201058201\n",
      "0.8015396873195648\n",
      "0.7639578966184103\n",
      "0.9194444444444446\n",
      "0.8457977207977209\n",
      "0.7142433962005827\n",
      "0.7563127775617621\n",
      "0.7207845147576323\n",
      "0.7011605667394828\n",
      "0.7828080438109625\n",
      "0.8004306200629876\n",
      "0.746628033570809\n",
      "0.7470951225914056\n",
      "0.7712962962962964\n",
      "0.71511544011544\n",
      "0.7854352780579307\n"
     ]
    }
   ],
   "source": [
    "roc_auc_performance = {}\n",
    "for k,v in data.items():\n",
    "    try:\n",
    "        target = k\n",
    "        indices = v\n",
    "        X_test = df_test[df_test.index.isin(indices)]['post_tokens_joined']\n",
    "        X_test_vect = vectorizer.transform(X_test)\n",
    "        y_test = df_test[df_test.index.isin(indices)]['final_label']\n",
    "        roc_auc = roc_auc_score(y_test, best_algorithm.predict_proba(X_test_vect), multi_class='ovr')\n",
    "        print(roc_auc)\n",
    "        roc_auc_performance[target] = roc_auc\n",
    "    except:\n",
    "        pass"
   ]
  },
  {
   "cell_type": "code",
   "execution_count": 13,
   "id": "cd61e30b",
   "metadata": {},
   "outputs": [
    {
     "data": {
      "text/plain": [
       "0.7854352780579307"
      ]
     },
     "execution_count": 13,
     "metadata": {},
     "output_type": "execute_result"
    }
   ],
   "source": [
    "roc_auc_performance.pop('None')"
   ]
  },
  {
   "cell_type": "code",
   "execution_count": 15,
   "id": "86fd8ad3",
   "metadata": {},
   "outputs": [],
   "source": [
    "roc_auc_performance = dict(sorted(roc_auc_performance.items(), key=lambda item: item[1]))"
   ]
  },
  {
   "cell_type": "code",
   "execution_count": 16,
   "id": "31af9d35",
   "metadata": {},
   "outputs": [
    {
     "data": {
      "image/png": "[encoded data removed]",
      "text/plain": [
       "<Figure size 1152x576 with 1 Axes>"
      ]
     },
     "metadata": {
      "needs_background": "light"
     },
     "output_type": "display_data"
    }
   ],
   "source": [
    "fig = plt.figure(figsize=(16, 8))\n",
    "plt.bar(roc_auc_performance.keys(), roc_auc_performance.values())\n",
    "plt.xticks(rotation=90)\n",
    "plt.show()"
   ]
  },
  {
   "cell_type": "code",
   "execution_count": null,
   "id": "ff1951a2",
   "metadata": {},
   "outputs": [],
   "source": []
  }
 ],
 "metadata": {
  "kernelspec": {
   "display_name": "aix360",
   "language": "python",
   "name": "aix360"
  },
  "language_info": {
   "codemirror_mode": {
    "name": "ipython",
    "version": 3
   },
   "file_extension": ".py",
   "mimetype": "text/x-python",
   "name": "python",
   "nbconvert_exporter": "python",
   "pygments_lexer": "ipython3",
   "version": "3.10.4"
  }
 },
 "nbformat": 4,
 "nbformat_minor": 5
}
